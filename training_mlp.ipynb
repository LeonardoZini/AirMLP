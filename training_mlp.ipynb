{
 "cells": [
  {
   "cell_type": "code",
   "execution_count": 1,
   "metadata": {},
   "outputs": [
    {
     "name": "stderr",
     "output_type": "stream",
     "text": [
      "c:\\Users\\Leonardo\\anaconda3\\envs\\generic\\lib\\site-packages\\tqdm\\auto.py:22: TqdmWarning: IProgress not found. Please update jupyter and ipywidgets. See https://ipywidgets.readthedocs.io/en/stable/user_install.html\n",
      "  from .autonotebook import tqdm as notebook_tqdm\n"
     ]
    }
   ],
   "source": [
    "import torch\n",
    "import deep.model as models\n",
    "import deep.training as training\n",
    "from tool.preprocessing import DataCollection\n",
    "from tool.create_dataset import creation"
   ]
  },
  {
   "cell_type": "code",
   "execution_count": 2,
   "metadata": {},
   "outputs": [],
   "source": [
    "#Hyperparameters\n",
    "NUM_RECORD = 3\n",
    "TOTAL_DIMENSION = NUM_RECORD*6\n",
    "PROB = 1\n",
    "BATCH_SIZE=128\n",
    "NUM_HIDDEN = 512\n",
    "LR=0.00001\n",
    "NUM_EPOCHS = 200\n",
    "\n",
    "#Data Loader\n",
    "collection = DataCollection(drop_null=True)\n",
    "dataset,gt = collection.get_dataset(drop_datetime=False) # in dataset is already present the gt value"
   ]
  },
  {
   "cell_type": "code",
   "execution_count": null,
   "metadata": {},
   "outputs": [],
   "source": [
    "\n",
    "division = creation(dataset,NUM_RECORD,p=PROB)\n",
    "\n",
    "mlp_dataset_X_train= division[0][0].flatten(-2)\n",
    "mlp_dataset_y_train= division[0][1].flatten(-2)[:,0]\n",
    "mlp_dataset_X_test = division[1][0].flatten(-2)\n",
    "mlp_dataset_y_test = division[1][1].flatten(-2)[:,0]"
   ]
  },
  {
   "cell_type": "code",
   "execution_count": null,
   "metadata": {},
   "outputs": [],
   "source": [
    "import torch\n",
    "import numpy as np\n",
    "import torch.nn as nn\n",
    "\n",
    "import torch.optim as optim\n",
    "import torch.utils.data as data\n",
    "\n",
    "import torch.nn as nn\n",
    "def eval(mlp: nn.Module, data_loader: torch.utils.data.DataLoader, \n",
    "             device: torch.device):\n",
    "  \n",
    "  loss_fun = nn.MSELoss().to(device)\n",
    "  correct = 0\n",
    "  total = 0\n",
    "  \n",
    "  with torch.no_grad():\n",
    "    for x, y in data_loader:\n",
    "     \n",
    "      x, y = x.to(device), y.to(device)\n",
    "      y_pred = mlp(x)\n",
    "      #print(y_pred.shape,y.shape)\n",
    "      mean = loss_fun(y_pred,y)\n",
    "      #print(mean)\n",
    "      correct+=mean\n",
    "      \n",
    "      total+=1\n",
    "  return correct/total\n",
    "\n",
    "\n",
    "device = torch.device(\"cuda:0\" if torch.cuda.is_available() else \"cpu\")\n",
    "# Training\n",
    "model = models.AirMLP_6(num_fin=TOTAL_DIMENSION,num_hidden=NUM_HIDDEN).to(device)\n",
    "loss_fn = nn.MSELoss(reduction='mean').to(device)\n",
    "optimizer = optim.Adam(model.parameters(), lr=LR)\n",
    "loader = data.DataLoader(data.TensorDataset(mlp_dataset_X_train, mlp_dataset_y_train), shuffle=True, batch_size=BATCH_SIZE)\n",
    "loader_test = data.DataLoader(data.TensorDataset(mlp_dataset_X_test, mlp_dataset_y_test), shuffle=False, batch_size=BATCH_SIZE)\n",
    "\n",
    "\n",
    "try:\n",
    "    for epoch in range(NUM_EPOCHS):\n",
    "        \n",
    "        model.train()\n",
    "        for X_batch, y_batch in loader:\n",
    "            \n",
    "            X_batch, y_batch = X_batch.to(device), y_batch.to(device)\n",
    "            \n",
    "            optimizer.zero_grad()\n",
    "\n",
    "            y_pred = model(X_batch)\n",
    "            #print(y_pred.shape)\n",
    "            loss = loss_fn(y_pred, y_batch)\n",
    "            #print(y_batch.shape, y_pred.shape)\n",
    "            \n",
    "            loss.backward()\n",
    "\n",
    "            optimizer.step()\n",
    "        \n",
    "        \n",
    "        \n",
    "        # Validation\n",
    "        if epoch % 2 != 0:\n",
    "            continue\n",
    "        model.eval()\n",
    "        last_loss = (eval(model, loader, device),eval(model, loader_test, device))\n",
    "        print(f\"Epoch {epoch} train mse.: {eval(model, loader, device):.3f} test mse.: {eval(model, loader_test, device):.3f}\")\n",
    "except KeyboardInterrupt:\n",
    "    model.eval()\n",
    "    last_loss = (eval(model, loader, device),eval(model, loader_test, device))\n",
    "    print(f\"Epoch {epoch} train mse.: {eval(model, loader, device):.3f} test mse.: {eval(model, loader_test, device):.3f}\")\n",
    "    NUM_EPOCHS = epoch\n",
    "    "
   ]
  },
  {
   "cell_type": "code",
   "execution_count": null,
   "metadata": {},
   "outputs": [],
   "source": [
    "torch.save(model,r'.\\results\\weights\\weights_mlp_20230419-6-200ep-3rec.pth')"
   ]
  },
  {
   "cell_type": "code",
   "execution_count": null,
   "metadata": {},
   "outputs": [],
   "source": [
    "import os\n",
    "os.listdir(r'.\\results\\weights')\n",
    "model_rest = models.AirMLP_6(num_fin=TOTAL_DIMENSION,num_hidden=NUM_HIDDEN).to(device)\n",
    "model_rest = torch.load(r'.\\results\\weights\\weights_mlp_20230419-6-200ep-3rec.pth')\n",
    "model_rest.eval()"
   ]
  },
  {
   "cell_type": "code",
   "execution_count": null,
   "metadata": {},
   "outputs": [],
   "source": [
    "model = model_rest"
   ]
  },
  {
   "cell_type": "code",
   "execution_count": null,
   "metadata": {},
   "outputs": [],
   "source": [
    "import matplotlib.pyplot as plt\n",
    "import pandas as pd\n",
    "\n",
    "ari = collection.ari1953\n",
    "ari = pd.merge(ari,gt,how=\"inner\", on=\"valid_at\").rename(columns={\"pm2p5_y\":\"pm2p5_t\",\"pm2p5_x\":\"pm2p5\"})\n",
    "\n",
    "x_test = creation(ari,NUM_RECORD)[0][0].flatten(-2)\n",
    "y_test = creation(ari,NUM_RECORD)[0][1].flatten(-2)[:,0]\n",
    "model.eval()\n",
    "print(y_test.isnan().sum())\n",
    "y_pred = model(x_test[:200,:])\n",
    "#y_test=y_test.cpu().detach().numpy()[:200]\n",
    "y_test=y_test[:200]\n",
    "\n",
    "\n",
    "pred_plot = plt.plot(y_pred.cpu().detach().numpy(), '--b',label=\"Prediction\")\n",
    "test_plot = plt.plot(y_test.cpu().detach().numpy(),'-r',label=\"Ground Truth\")\n",
    "#test_plot = plt.plot(ari[\"pm2p5\"][:200].reset_index()[\"pm2p5\"],'-g',label=\"Original\")\n",
    "test_plot = plt.title(f\"MLP\\n batch: {BATCH_SIZE}, num_hidden: {NUM_HIDDEN}, layer: 6, epochs: {NUM_EPOCHS}. adam\\ntrain:{last_loss[0]:.3f}, test: {last_loss[1]:.3f}\\nLR: {LR}, records:{NUM_RECORD}\")\n",
    "test_plot = plt.xlabel('days')\n",
    "test_plot = plt.ylabel('PM2.5')\n",
    "leg = plt.legend(loc='upper left')\n",
    "\n",
    "\n",
    "\n",
    "plt.show()"
   ]
  }
 ],
 "metadata": {
  "kernelspec": {
   "display_name": "generic",
   "language": "python",
   "name": "python3"
  },
  "language_info": {
   "codemirror_mode": {
    "name": "ipython",
    "version": 3
   },
   "file_extension": ".py",
   "mimetype": "text/x-python",
   "name": "python",
   "nbconvert_exporter": "python",
   "pygments_lexer": "ipython3",
   "version": "3.8.13"
  },
  "orig_nbformat": 4
 },
 "nbformat": 4,
 "nbformat_minor": 2
}
