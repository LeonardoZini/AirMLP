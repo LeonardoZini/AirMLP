{
 "cells": [
  {
   "cell_type": "code",
   "execution_count": 1,
   "metadata": {},
   "outputs": [
    {
     "name": "stderr",
     "output_type": "stream",
     "text": [
      "c:\\Users\\Leonardo\\anaconda3\\envs\\generic\\lib\\site-packages\\tqdm\\auto.py:22: TqdmWarning: IProgress not found. Please update jupyter and ipywidgets. See https://ipywidgets.readthedocs.io/en/stable/user_install.html\n",
      "  from .autonotebook import tqdm as notebook_tqdm\n"
     ]
    }
   ],
   "source": [
    "import torch\n",
    "import deep.model as models\n",
    "import deep.training as training\n",
    "from tool.preprocessing import DataCollection\n",
    "from tool.create_dataset import creation\n",
    "\n",
    "\n",
    "#Hyperparameters\n",
    "NUM_RECORD = 3\n",
    "TOTAL_DIMENSION = NUM_RECORD*6\n",
    "PROB = 0.75\n",
    "BATCH_SIZE=128\n",
    "NUM_HIDDEN = 512\n",
    "LR=0.00001\n",
    "NUM_EPOCHS = 200\n",
    "#Data Loader\n",
    "collection = DataCollection(drop_null=True)\n",
    "dataset,gt = collection.get_dataset(drop_datetime=False) # in dataset is already present the gt value\n",
    "\n"
   ]
  },
  {
   "cell_type": "code",
   "execution_count": 2,
   "metadata": {},
   "outputs": [
    {
     "ename": "NameError",
     "evalue": "name 'device' is not defined",
     "output_type": "error",
     "traceback": [
      "\u001b[1;31m---------------------------------------------------------------------------\u001b[0m",
      "\u001b[1;31mNameError\u001b[0m                                 Traceback (most recent call last)",
      "\u001b[1;32mc:\\Users\\Leonardo\\Documents\\Universita\\SIWS\\prj\\PM2.5CorrectorNetwork\\testing_mlp.ipynb Cell 2\u001b[0m in \u001b[0;36m<cell line: 3>\u001b[1;34m()\u001b[0m\n\u001b[0;32m      <a href='vscode-notebook-cell:/c%3A/Users/Leonardo/Documents/Universita/SIWS/prj/PM2.5CorrectorNetwork/testing_mlp.ipynb#W1sZmlsZQ%3D%3D?line=0'>1</a>\u001b[0m \u001b[39mimport\u001b[39;00m \u001b[39mos\u001b[39;00m\n\u001b[0;32m      <a href='vscode-notebook-cell:/c%3A/Users/Leonardo/Documents/Universita/SIWS/prj/PM2.5CorrectorNetwork/testing_mlp.ipynb#W1sZmlsZQ%3D%3D?line=1'>2</a>\u001b[0m os\u001b[39m.\u001b[39mlistdir(\u001b[39mr\u001b[39m\u001b[39m'\u001b[39m\u001b[39m.\u001b[39m\u001b[39m\\\u001b[39m\u001b[39mresults\u001b[39m\u001b[39m\\\u001b[39m\u001b[39mweights\u001b[39m\u001b[39m'\u001b[39m)\n\u001b[1;32m----> <a href='vscode-notebook-cell:/c%3A/Users/Leonardo/Documents/Universita/SIWS/prj/PM2.5CorrectorNetwork/testing_mlp.ipynb#W1sZmlsZQ%3D%3D?line=2'>3</a>\u001b[0m model_rest \u001b[39m=\u001b[39m models\u001b[39m.\u001b[39mAirMLP_6(num_fin\u001b[39m=\u001b[39mTOTAL_DIMENSION,num_hidden\u001b[39m=\u001b[39mNUM_HIDDEN)\u001b[39m.\u001b[39mto(device)\n\u001b[0;32m      <a href='vscode-notebook-cell:/c%3A/Users/Leonardo/Documents/Universita/SIWS/prj/PM2.5CorrectorNetwork/testing_mlp.ipynb#W1sZmlsZQ%3D%3D?line=3'>4</a>\u001b[0m model_rest \u001b[39m=\u001b[39m torch\u001b[39m.\u001b[39mload(\u001b[39mr\u001b[39m\u001b[39m'\u001b[39m\u001b[39m.\u001b[39m\u001b[39m\\\u001b[39m\u001b[39mresults\u001b[39m\u001b[39m\\\u001b[39m\u001b[39mweights\u001b[39m\u001b[39m\\\u001b[39m\u001b[39mweights_mlp_20230419-6-200ep-3rec.pth\u001b[39m\u001b[39m'\u001b[39m)\n\u001b[0;32m      <a href='vscode-notebook-cell:/c%3A/Users/Leonardo/Documents/Universita/SIWS/prj/PM2.5CorrectorNetwork/testing_mlp.ipynb#W1sZmlsZQ%3D%3D?line=4'>5</a>\u001b[0m model_rest\u001b[39m.\u001b[39meval()\n",
      "\u001b[1;31mNameError\u001b[0m: name 'device' is not defined"
     ]
    }
   ],
   "source": [
    "import os\n",
    "os.listdir(r'.\\results\\weights')\n",
    "model_rest = models.AirMLP_6(num_fin=TOTAL_DIMENSION,num_hidden=NUM_HIDDEN).to(device)\n",
    "model_rest = torch.load(r'.\\results\\weights\\weights_mlp_20230419-6-200ep-3rec.pth')\n",
    "model_rest.eval()\n",
    "model = model_rest\n",
    "\n",
    "import matplotlib.pyplot as plt\n",
    "import pandas as pd\n",
    "\n",
    "ari = collection.ari1953\n",
    "ari = pd.merge(ari,gt,how=\"inner\", on=\"valid_at\").rename(columns={\"pm2p5_y\":\"pm2p5_t\",\"pm2p5_x\":\"pm2p5\"})\n",
    "\n",
    "x_test = creation(ari,NUM_RECORD)[0][0].flatten(-2)\n",
    "y_test = creation(ari,NUM_RECORD)[0][1].flatten(-2)[:,0]\n",
    "model.eval()\n",
    "print(y_test.isnan().sum())\n",
    "y_pred = model(x_test[:200,:])\n",
    "#y_test=y_test.cpu().detach().numpy()[:200]\n",
    "y_test=y_test[:200]\n",
    "\n",
    "\n",
    "pred_plot = plt.plot(y_pred.cpu().detach().numpy(), '-b',label=\"Prediction\")\n",
    "test_plot = plt.plot(y_test.cpu().detach().numpy(),'-r',label=\"Ground Truth\")\n",
    "test_plot = plt.plot(ari[\"pm2p5\"][:200].reset_index()[\"pm2p5\"],'--g',label=\"Original\")\n",
    "test_plot = plt.title(f\"MLP\\n batch: {BATCH_SIZE}, num_hidden: {NUM_HIDDEN}, layer: 6, epochs: {NUM_EPOCHS}. adam\\nLR: {LR}, records:{NUM_RECORD}\")\n",
    "test_plot = plt.xlabel('days')\n",
    "test_plot = plt.ylabel('PM2.5')\n",
    "leg = plt.legend(loc='upper left')\n",
    "\n",
    "\n",
    "\n",
    "plt.show()"
   ]
  }
 ],
 "metadata": {
  "kernelspec": {
   "display_name": "generic",
   "language": "python",
   "name": "python3"
  },
  "language_info": {
   "codemirror_mode": {
    "name": "ipython",
    "version": 3
   },
   "file_extension": ".py",
   "mimetype": "text/x-python",
   "name": "python",
   "nbconvert_exporter": "python",
   "pygments_lexer": "ipython3",
   "version": "3.8.13"
  },
  "orig_nbformat": 4
 },
 "nbformat": 4,
 "nbformat_minor": 2
}
