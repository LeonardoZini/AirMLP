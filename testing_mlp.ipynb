{
 "cells": [
  {
   "cell_type": "code",
   "execution_count": 27,
   "metadata": {},
   "outputs": [],
   "source": [
    "import torch\n",
    "import deep.model as models\n",
    "import deep.training as training\n",
    "from tool.preprocessing import DataCollection\n",
    "from tool.create_dataset import creation"
   ]
  },
  {
   "cell_type": "code",
   "execution_count": 30,
   "metadata": {},
   "outputs": [],
   "source": [
    "collection = DataCollection(drop_null=True)\n",
    "dataset,gt = collection.get_dataset(drop_datetime=False) # in dataset is already present the gt value\n"
   ]
  },
  {
   "cell_type": "code",
   "execution_count": 34,
   "metadata": {},
   "outputs": [],
   "source": [
    "NUM_RECORD = 10\n",
    "TOTAL_DIMENSION = NUM_RECORD*6\n",
    "division = creation(dataset,NUM_RECORD,p=0.75)\n",
    "\n",
    "mlp_dataset_X_train= division[0][0].flatten(-2)\n",
    "mlp_dataset_y_train= division[0][1].flatten(-2)[:,0]\n",
    "mlp_dataset_X_test = division[1][0].flatten(-2)\n",
    "mlp_dataset_y_test = division[1][1].flatten(-2)[:,0]"
   ]
  },
  {
   "cell_type": "code",
   "execution_count": 35,
   "metadata": {},
   "outputs": [],
   "source": [
    "import torch.nn as nn\n",
    "def eval(mlp: nn.Module, data_loader: torch.utils.data.DataLoader, \n",
    "             device: torch.device):\n",
    "  \n",
    "  loss_fun = nn.MSELoss().to(device)\n",
    "  correct = 0\n",
    "  total = 0\n",
    "  \n",
    "  with torch.no_grad():\n",
    "    for x, y in data_loader:\n",
    "     \n",
    "      x, y = x.to(device), y.to(device)\n",
    "      y_pred = mlp(x)\n",
    "      #print(y_pred.shape,y.shape)\n",
    "      mean = loss_fun(y_pred,y)\n",
    "      #print(mean)\n",
    "      correct+=mean\n",
    "      \n",
    "      total+=1\n",
    "  return correct/total"
   ]
  },
  {
   "cell_type": "code",
   "execution_count": 36,
   "metadata": {},
   "outputs": [
    {
     "name": "stdout",
     "output_type": "stream",
     "text": [
      "torch.Size([512])\n",
      "torch.Size([512])\n",
      "torch.Size([512])\n",
      "torch.Size([512])\n",
      "torch.Size([512])\n",
      "torch.Size([512])\n",
      "torch.Size([512])\n",
      "torch.Size([512])\n",
      "torch.Size([512])\n",
      "torch.Size([512])\n",
      "torch.Size([512])\n",
      "torch.Size([512])\n",
      "torch.Size([512])\n",
      "torch.Size([512])\n",
      "torch.Size([512])\n",
      "torch.Size([512])\n",
      "torch.Size([512])\n",
      "torch.Size([512])\n",
      "torch.Size([512])\n",
      "torch.Size([512])\n",
      "torch.Size([512])\n",
      "torch.Size([512])\n",
      "torch.Size([512])\n",
      "torch.Size([512])\n",
      "torch.Size([512])\n",
      "torch.Size([512])\n",
      "torch.Size([512])\n"
     ]
    },
    {
     "ename": "KeyboardInterrupt",
     "evalue": "",
     "output_type": "error",
     "traceback": [
      "\u001b[1;31m---------------------------------------------------------------------------\u001b[0m",
      "\u001b[1;31mKeyboardInterrupt\u001b[0m                         Traceback (most recent call last)",
      "\u001b[1;32mc:\\Users\\Leonardo\\Documents\\Universita\\SIWS\\prj\\testing_mlp.ipynb Cell 5\u001b[0m in \u001b[0;36m<cell line: 19>\u001b[1;34m()\u001b[0m\n\u001b[0;32m     <a href='vscode-notebook-cell:/c%3A/Users/Leonardo/Documents/Universita/SIWS/prj/testing_mlp.ipynb#W4sZmlsZQ%3D%3D?line=30'>31</a>\u001b[0m     loss \u001b[39m=\u001b[39m loss_fn(y_pred, y_batch)\n\u001b[0;32m     <a href='vscode-notebook-cell:/c%3A/Users/Leonardo/Documents/Universita/SIWS/prj/testing_mlp.ipynb#W4sZmlsZQ%3D%3D?line=31'>32</a>\u001b[0m     \u001b[39m#print(y_batch.shape, y_pred.shape)\u001b[39;00m\n\u001b[1;32m---> <a href='vscode-notebook-cell:/c%3A/Users/Leonardo/Documents/Universita/SIWS/prj/testing_mlp.ipynb#W4sZmlsZQ%3D%3D?line=32'>33</a>\u001b[0m     loss\u001b[39m.\u001b[39;49mbackward()\n\u001b[0;32m     <a href='vscode-notebook-cell:/c%3A/Users/Leonardo/Documents/Universita/SIWS/prj/testing_mlp.ipynb#W4sZmlsZQ%3D%3D?line=34'>35</a>\u001b[0m     optimizer\u001b[39m.\u001b[39mstep()\n\u001b[0;32m     <a href='vscode-notebook-cell:/c%3A/Users/Leonardo/Documents/Universita/SIWS/prj/testing_mlp.ipynb#W4sZmlsZQ%3D%3D?line=38'>39</a>\u001b[0m \u001b[39m# Validation\u001b[39;00m\n",
      "File \u001b[1;32mc:\\Users\\Leonardo\\anaconda3\\envs\\generic\\lib\\site-packages\\torch\\_tensor.py:487\u001b[0m, in \u001b[0;36mTensor.backward\u001b[1;34m(self, gradient, retain_graph, create_graph, inputs)\u001b[0m\n\u001b[0;32m    477\u001b[0m \u001b[39mif\u001b[39;00m has_torch_function_unary(\u001b[39mself\u001b[39m):\n\u001b[0;32m    478\u001b[0m     \u001b[39mreturn\u001b[39;00m handle_torch_function(\n\u001b[0;32m    479\u001b[0m         Tensor\u001b[39m.\u001b[39mbackward,\n\u001b[0;32m    480\u001b[0m         (\u001b[39mself\u001b[39m,),\n\u001b[1;32m   (...)\u001b[0m\n\u001b[0;32m    485\u001b[0m         inputs\u001b[39m=\u001b[39minputs,\n\u001b[0;32m    486\u001b[0m     )\n\u001b[1;32m--> 487\u001b[0m torch\u001b[39m.\u001b[39;49mautograd\u001b[39m.\u001b[39;49mbackward(\n\u001b[0;32m    488\u001b[0m     \u001b[39mself\u001b[39;49m, gradient, retain_graph, create_graph, inputs\u001b[39m=\u001b[39;49minputs\n\u001b[0;32m    489\u001b[0m )\n",
      "File \u001b[1;32mc:\\Users\\Leonardo\\anaconda3\\envs\\generic\\lib\\site-packages\\torch\\autograd\\__init__.py:197\u001b[0m, in \u001b[0;36mbackward\u001b[1;34m(tensors, grad_tensors, retain_graph, create_graph, grad_variables, inputs)\u001b[0m\n\u001b[0;32m    192\u001b[0m     retain_graph \u001b[39m=\u001b[39m create_graph\n\u001b[0;32m    194\u001b[0m \u001b[39m# The reason we repeat same the comment below is that\u001b[39;00m\n\u001b[0;32m    195\u001b[0m \u001b[39m# some Python versions print out the first line of a multi-line function\u001b[39;00m\n\u001b[0;32m    196\u001b[0m \u001b[39m# calls in the traceback and some print out the last line\u001b[39;00m\n\u001b[1;32m--> 197\u001b[0m Variable\u001b[39m.\u001b[39;49m_execution_engine\u001b[39m.\u001b[39;49mrun_backward(  \u001b[39m# Calls into the C++ engine to run the backward pass\u001b[39;49;00m\n\u001b[0;32m    198\u001b[0m     tensors, grad_tensors_, retain_graph, create_graph, inputs,\n\u001b[0;32m    199\u001b[0m     allow_unreachable\u001b[39m=\u001b[39;49m\u001b[39mTrue\u001b[39;49;00m, accumulate_grad\u001b[39m=\u001b[39;49m\u001b[39mTrue\u001b[39;49;00m)\n",
      "\u001b[1;31mKeyboardInterrupt\u001b[0m: "
     ]
    }
   ],
   "source": [
    "import torch\n",
    "import numpy as np\n",
    "import torch.nn as nn\n",
    "\n",
    "import torch.optim as optim\n",
    "import torch.utils.data as data\n",
    "\n",
    "BATCH_SIZE=512\n",
    "device = torch.device(\"cuda:0\" if torch.cuda.is_available() else \"cpu\")\n",
    "# Training\n",
    "model = models.AirMLP(num_fin=60,num_hidden=4096).to(device)\n",
    "loss_fn = nn.MSELoss(reduction='mean').to(device)\n",
    "optimizer = optim.SGD(model.parameters(), lr=0.001)\n",
    "loader = data.DataLoader(data.TensorDataset(mlp_dataset_X_train, mlp_dataset_y_train), shuffle=True, batch_size=BATCH_SIZE)\n",
    "loader_test = data.DataLoader(data.TensorDataset(mlp_dataset_X_test, mlp_dataset_y_test), shuffle=False, batch_size=BATCH_SIZE)\n",
    "\n",
    "\n",
    "n_epochs = 51\n",
    "for epoch in range(n_epochs):\n",
    "    \n",
    "    \n",
    "    model.train()\n",
    "    for X_batch, y_batch in loader:\n",
    "        \n",
    "        X_batch, y_batch = X_batch.to(device), y_batch.to(device)\n",
    "        \n",
    "        optimizer.zero_grad()\n",
    "\n",
    "        y_pred = model(X_batch)\n",
    "        print(y_pred.shape)\n",
    "        loss = loss_fn(y_pred, y_batch)\n",
    "        #print(y_batch.shape, y_pred.shape)\n",
    "        loss.backward()\n",
    "\n",
    "        optimizer.step()\n",
    "    \n",
    "    \n",
    "    \n",
    "    # Validation\n",
    "    if epoch % 10 != 0:\n",
    "        continue\n",
    "    model.eval()\n",
    "    print(f\"Epoch {epoch} train mse.: {eval(model, loader, device):.3f} test mse.: {eval(model, loader_test, device):.3f}\")\n",
    "    \n",
    "    "
   ]
  },
  {
   "cell_type": "code",
   "execution_count": null,
   "metadata": {},
   "outputs": [],
   "source": [
    "torch.save(model,r'.\\results\\weights\\weights_mlp_20230414.pth')"
   ]
  },
  {
   "cell_type": "code",
   "execution_count": null,
   "metadata": {},
   "outputs": [],
   "source": [
    "import matplotlib.pyplot as plt\n",
    "import pandas as pd\n",
    "\n",
    "ari = collection.ari1952\n",
    "\n",
    "ari = pd.merge(ari,gt,how=\"inner\", on=\"valid_at\").rename(columns={\"pm2p5_y\":\"pm2p5_t\",\"pm2p5_x\":\"pm2p5\"})\n",
    "\n",
    "x_test = creation(ari,10)[1][0].flatten(-2)\n",
    "y_test = creation(ari,10)[1][1].flatten(-2)[:,0]\n",
    "\n",
    "y_test.isnan().sum()\n",
    "y_pred = model(x_test[:200,:])[:200]\n",
    "#y_test=y_test.cpu().detach().numpy()[:200]\n",
    "y_test=y_test[:200]\n",
    "\n",
    "for impacts in [y_pred,y_test]:\n",
    "    timefilteredForce = plt.plot(impacts.cpu().detach().numpy())\n",
    "    timefilteredForce = plt.xlabel('days')\n",
    "    timefilteredForce = plt.ylabel('PM2.5')\n",
    "\n",
    "plt.show()"
   ]
  }
 ],
 "metadata": {
  "kernelspec": {
   "display_name": "generic",
   "language": "python",
   "name": "python3"
  },
  "language_info": {
   "codemirror_mode": {
    "name": "ipython",
    "version": 3
   },
   "file_extension": ".py",
   "mimetype": "text/x-python",
   "name": "python",
   "nbconvert_exporter": "python",
   "pygments_lexer": "ipython3",
   "version": "3.8.13"
  },
  "orig_nbformat": 4
 },
 "nbformat": 4,
 "nbformat_minor": 2
}
